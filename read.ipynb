{
 "cells": [
  {
   "attachments": {},
   "cell_type": "markdown",
   "metadata": {},
   "source": [
    "El S&P 500 es un índice de la bolsa americana que, como comentábamos arriba, recoge las 500 empresas de mayor capitalización de Estados Unidos (aunque con matices). Para que nos hagamos una idea de lo que significan estas 500 empresas, en conjunto suponen aproximadamente el 80% de la capitalización total de las empresas de USA.\n",
    "El índice S&P 500, o Standard & Poor's 500, es un índice muy importante que rastrea el desempeño de las acciones de 500 compañías de gran capitalización en los Estados Unidos. El símbolo del índice S&P 500 es ^GSPC. La serie de letras representa el rendimiento de las 500 acciones que cotizan en el S&P. Sin embargo, debe recordarse que ^GSPC es un índice de precios y no es negociable. Solo muestra el movimiento de los precios de las acciones en el índice S&P 500.\n",
    "Se trata del índice de referencia a nivel mundial y es por ello por lo que es el más seguido por los inversores, ya que se presupone como el índice de mayor representación global, desde el punto de vista sectorial y también de mercado, en cuanto a renta variable se refiere. El S&P500 representa la evolución económica del mercado y de la economía estadounidenses, por eso hay muchos traders interesados en invertir en él."
   ]
  },
  {
   "attachments": {},
   "cell_type": "markdown",
   "metadata": {},
   "source": [
    "![rantabilidad_sp](img\\rentabilidad sp a lo largo de los años.png)\n",
    "La rentabilidad media anual compuesta desde 1970 hasta 2019 es del 10,60% (incluidos los dividendos). Si descontamos los dividendos, la tasa de rendimiento (sin dividendos, o solo en el precio del índice en sí) baja al 7.37%. De este periodo, el año de mayor rentabilidad fue 1995, con un 37,58% de subida anual y el peor año se vivió durante la Crisis Subprime en el año 2008 cuando el índice generó una rentabilidad negativa del −37,00%.\n",
    "https://diariodebolsa.com/sp-500-que-es-que-significa-y-como-invertir-en-el \n"
   ]
  },
  {
   "attachments": {},
   "cell_type": "markdown",
   "metadata": {},
   "source": [
    "Si está haciendo un análisis de tiempo del S&P 500, es mejor utilizar el precio de cierre ajustado por dividendos (\"Adj Close\") en lugar del precio de apertura o cierre sin ajustar.\n",
    "\n",
    "Esto se debe a que el precio de cierre ajustado por dividendos refleja con mayor precisión el verdadero valor de la acción o del índice S&P 500, ya que tiene en cuenta cualquier distribución de dividendos u otros eventos corporativos que puedan afectar el valor de la acción a lo largo del tiempo. Por lo tanto, el precio de cierre ajustado por dividendos proporciona una medida más precisa del rendimiento histórico de una acción o del índice S&P 500 en su conjunto."
   ]
  }
 ],
 "metadata": {
  "language_info": {
   "name": "python"
  },
  "orig_nbformat": 4
 },
 "nbformat": 4,
 "nbformat_minor": 2
}
