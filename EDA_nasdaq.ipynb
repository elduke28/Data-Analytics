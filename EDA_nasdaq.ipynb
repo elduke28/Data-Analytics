{
 "cells": [
  {
   "attachments": {},
   "cell_type": "markdown",
   "metadata": {},
   "source": [
    "## Proceso de ETL y EDA"
   ]
  },
  {
   "cell_type": "code",
   "execution_count": 1,
   "metadata": {},
   "outputs": [],
   "source": [
    "# Importamos las librerías necesarias\n",
    "\n",
    "import pandas as pd\n",
    "import numpy as np\n",
    "from datetime import datetime as dt\n",
    "import matplotlib.pyplot as plt\n",
    "import seaborn as sns\n",
    "import yfinance as yf\n",
    "%matplotlib inline\n",
    "sns.set()"
   ]
  },
  {
   "cell_type": "code",
   "execution_count": 2,
   "metadata": {},
   "outputs": [],
   "source": [
    "# Realizamos webscraping para obtener los símbolos de las acciones, junto con su sector, subsector y locación\n",
    "\n",
    "URL = 'https://en.wikipedia.org/wiki/Nasdaq-100'\n",
    "\n",
    "nasdaq_companies = pd.read_html(URL)[4][['Ticker', 'Company', 'GICS Sector', 'GICS Sub-Industry']]\n",
    "\n",
    "# Renombramos las columnas\n",
    "nasdaq_companies.rename(columns={'GICS Sector': 'Sector', 'GICS Sub-Industry': 'Sub-Industry' }, inplace=True)"
   ]
  },
  {
   "cell_type": "code",
   "execution_count": 3,
   "metadata": {},
   "outputs": [
    {
     "data": {
      "text/html": [
       "<div>\n",
       "<style scoped>\n",
       "    .dataframe tbody tr th:only-of-type {\n",
       "        vertical-align: middle;\n",
       "    }\n",
       "\n",
       "    .dataframe tbody tr th {\n",
       "        vertical-align: top;\n",
       "    }\n",
       "\n",
       "    .dataframe thead th {\n",
       "        text-align: right;\n",
       "    }\n",
       "</style>\n",
       "<table border=\"1\" class=\"dataframe\">\n",
       "  <thead>\n",
       "    <tr style=\"text-align: right;\">\n",
       "      <th></th>\n",
       "      <th>Ticker</th>\n",
       "      <th>Company</th>\n",
       "      <th>Sector</th>\n",
       "      <th>Sub-Industry</th>\n",
       "    </tr>\n",
       "  </thead>\n",
       "  <tbody>\n",
       "    <tr>\n",
       "      <th>4</th>\n",
       "      <td>ALGN</td>\n",
       "      <td>Align Technology</td>\n",
       "      <td>Health Care</td>\n",
       "      <td>Health Care Supplies</td>\n",
       "    </tr>\n",
       "    <tr>\n",
       "      <th>10</th>\n",
       "      <td>AMGN</td>\n",
       "      <td>Amgen</td>\n",
       "      <td>Health Care</td>\n",
       "      <td>Biotechnology</td>\n",
       "    </tr>\n",
       "    <tr>\n",
       "      <th>16</th>\n",
       "      <td>AZN</td>\n",
       "      <td>AstraZeneca</td>\n",
       "      <td>Health Care</td>\n",
       "      <td>Pharmaceuticals</td>\n",
       "    </tr>\n",
       "    <tr>\n",
       "      <th>20</th>\n",
       "      <td>BIIB</td>\n",
       "      <td>Biogen</td>\n",
       "      <td>Health Care</td>\n",
       "      <td>Biotechnology</td>\n",
       "    </tr>\n",
       "    <tr>\n",
       "      <th>36</th>\n",
       "      <td>DXCM</td>\n",
       "      <td>DexCom</td>\n",
       "      <td>Health Care</td>\n",
       "      <td>Health Care Equipment</td>\n",
       "    </tr>\n",
       "  </tbody>\n",
       "</table>\n",
       "</div>"
      ],
      "text/plain": [
       "   Ticker           Company       Sector           Sub-Industry\n",
       "4    ALGN  Align Technology  Health Care   Health Care Supplies\n",
       "10   AMGN             Amgen  Health Care          Biotechnology\n",
       "16    AZN       AstraZeneca  Health Care        Pharmaceuticals\n",
       "20   BIIB            Biogen  Health Care          Biotechnology\n",
       "36   DXCM            DexCom  Health Care  Health Care Equipment"
      ]
     },
     "execution_count": 3,
     "metadata": {},
     "output_type": "execute_result"
    }
   ],
   "source": [
    "# Creamos un nuevo dataframe el cual posee únicamente el sector 'Health Care'\n",
    "nasdaq_companies_h = nasdaq_companies[nasdaq_companies.Sector == 'Health Care']\n",
    "nasdaq_companies_h.head()"
   ]
  },
  {
   "cell_type": "code",
   "execution_count": 4,
   "metadata": {},
   "outputs": [
    {
     "name": "stdout",
     "output_type": "stream",
     "text": [
      "Descargando datos para ALGN...\n",
      "[*********************100%***********************]  1 of 1 completed\n",
      "Descargando datos para AMGN...\n",
      "[*********************100%***********************]  1 of 1 completed\n",
      "Descargando datos para AZN...\n",
      "[*********************100%***********************]  1 of 1 completed\n",
      "Descargando datos para BIIB...\n",
      "[*********************100%***********************]  1 of 1 completed\n",
      "Descargando datos para DXCM...\n",
      "[*********************100%***********************]  1 of 1 completed\n",
      "Descargando datos para GILD...\n",
      "[*********************100%***********************]  1 of 1 completed\n",
      "Descargando datos para IDXX...\n",
      "[*********************100%***********************]  1 of 1 completed\n",
      "Descargando datos para ILMN...\n",
      "[*********************100%***********************]  1 of 1 completed\n",
      "Descargando datos para ISRG...\n",
      "[*********************100%***********************]  1 of 1 completed\n",
      "Descargando datos para MRNA...\n",
      "[*********************100%***********************]  1 of 1 completed\n",
      "Descargando datos para REGN...\n",
      "[*********************100%***********************]  1 of 1 completed\n",
      "Descargando datos para SGEN...\n",
      "[*********************100%***********************]  1 of 1 completed\n",
      "Descargando datos para VRTX...\n",
      "[*********************100%***********************]  1 of 1 completed\n"
     ]
    }
   ],
   "source": [
    "# Creamos una lista con los symbols del dataframe antes creado\n",
    "nasdaq_companies_h_symbols = nasdaq_companies_h.Ticker.tolist()\n",
    "\n",
    "# Creamos un DataFrame vacío para almacenar los datos de cada compañía\n",
    "nasdaq_h = pd.DataFrame()\n",
    "\n",
    "# Iterarmos por el symbol de cada compañia y agregamos los datos al Dataframe creado\n",
    "for ticke in nasdaq_companies_h_symbols:\n",
    "    print(f\"Descargando datos para {ticke}...\")\n",
    "    data = yf.download(ticke, start='2000-01-01')\n",
    "    if len(data) > 0:\n",
    "        data['Ticker'] = ticke\n",
    "        nasdaq_h = pd.concat([nasdaq_h, data], axis=0)"
   ]
  },
  {
   "cell_type": "code",
   "execution_count": 5,
   "metadata": {},
   "outputs": [
    {
     "data": {
      "text/html": [
       "<div>\n",
       "<style scoped>\n",
       "    .dataframe tbody tr th:only-of-type {\n",
       "        vertical-align: middle;\n",
       "    }\n",
       "\n",
       "    .dataframe tbody tr th {\n",
       "        vertical-align: top;\n",
       "    }\n",
       "\n",
       "    .dataframe thead th {\n",
       "        text-align: right;\n",
       "    }\n",
       "</style>\n",
       "<table border=\"1\" class=\"dataframe\">\n",
       "  <thead>\n",
       "    <tr style=\"text-align: right;\">\n",
       "      <th></th>\n",
       "      <th>Open</th>\n",
       "      <th>High</th>\n",
       "      <th>Low</th>\n",
       "      <th>Close</th>\n",
       "      <th>Adj Close</th>\n",
       "      <th>Volume</th>\n",
       "      <th>Ticker</th>\n",
       "    </tr>\n",
       "    <tr>\n",
       "      <th>Date</th>\n",
       "      <th></th>\n",
       "      <th></th>\n",
       "      <th></th>\n",
       "      <th></th>\n",
       "      <th></th>\n",
       "      <th></th>\n",
       "      <th></th>\n",
       "    </tr>\n",
       "  </thead>\n",
       "  <tbody>\n",
       "    <tr>\n",
       "      <th>2001-01-30</th>\n",
       "      <td>18.125</td>\n",
       "      <td>18.1875</td>\n",
       "      <td>16.2500</td>\n",
       "      <td>16.8750</td>\n",
       "      <td>16.8750</td>\n",
       "      <td>812300</td>\n",
       "      <td>ALGN</td>\n",
       "    </tr>\n",
       "    <tr>\n",
       "      <th>2001-01-31</th>\n",
       "      <td>17.125</td>\n",
       "      <td>17.1875</td>\n",
       "      <td>13.4375</td>\n",
       "      <td>13.5000</td>\n",
       "      <td>13.5000</td>\n",
       "      <td>1212700</td>\n",
       "      <td>ALGN</td>\n",
       "    </tr>\n",
       "    <tr>\n",
       "      <th>2001-02-01</th>\n",
       "      <td>13.125</td>\n",
       "      <td>14.3750</td>\n",
       "      <td>13.0000</td>\n",
       "      <td>14.1875</td>\n",
       "      <td>14.1875</td>\n",
       "      <td>669100</td>\n",
       "      <td>ALGN</td>\n",
       "    </tr>\n",
       "  </tbody>\n",
       "</table>\n",
       "</div>"
      ],
      "text/plain": [
       "              Open     High      Low    Close  Adj Close   Volume Ticker\n",
       "Date                                                                    \n",
       "2001-01-30  18.125  18.1875  16.2500  16.8750    16.8750   812300   ALGN\n",
       "2001-01-31  17.125  17.1875  13.4375  13.5000    13.5000  1212700   ALGN\n",
       "2001-02-01  13.125  14.3750  13.0000  14.1875    14.1875   669100   ALGN"
      ]
     },
     "execution_count": 5,
     "metadata": {},
     "output_type": "execute_result"
    }
   ],
   "source": [
    "# Analizamos el encabezado del dataframe\n",
    "nasdaq_h.head(3)"
   ]
  },
  {
   "cell_type": "code",
   "execution_count": 6,
   "metadata": {},
   "outputs": [
    {
     "data": {
      "text/plain": [
       "(69093, 7)"
      ]
     },
     "execution_count": 6,
     "metadata": {},
     "output_type": "execute_result"
    }
   ],
   "source": [
    "# Tamaño del dataframe\n",
    "nasdaq_h.shape"
   ]
  },
  {
   "cell_type": "code",
   "execution_count": 7,
   "metadata": {},
   "outputs": [
    {
     "name": "stdout",
     "output_type": "stream",
     "text": [
      "<class 'pandas.core.frame.DataFrame'>\n",
      "DatetimeIndex: 69093 entries, 2001-01-30 to 2023-03-28\n",
      "Data columns (total 7 columns):\n",
      " #   Column     Non-Null Count  Dtype  \n",
      "---  ------     --------------  -----  \n",
      " 0   Open       69093 non-null  float64\n",
      " 1   High       69093 non-null  float64\n",
      " 2   Low        69093 non-null  float64\n",
      " 3   Close      69093 non-null  float64\n",
      " 4   Adj Close  69093 non-null  float64\n",
      " 5   Volume     69093 non-null  int64  \n",
      " 6   Ticker     69093 non-null  object \n",
      "dtypes: float64(5), int64(1), object(1)\n",
      "memory usage: 4.2+ MB\n"
     ]
    }
   ],
   "source": [
    "# Analizamos la cantidad de registros: 69093, columnas:7, tipos de datos: float64(5), int64(1), object(1)\n",
    "nasdaq_h.info()"
   ]
  },
  {
   "cell_type": "code",
   "execution_count": 8,
   "metadata": {},
   "outputs": [
    {
     "data": {
      "text/plain": [
       "Open         0\n",
       "High         0\n",
       "Low          0\n",
       "Close        0\n",
       "Adj Close    0\n",
       "Volume       0\n",
       "Ticker       0\n",
       "dtype: int64"
      ]
     },
     "execution_count": 8,
     "metadata": {},
     "output_type": "execute_result"
    }
   ],
   "source": [
    "# No se observan valores vacíos\n",
    "nasdaq_h.isnull().sum()"
   ]
  },
  {
   "cell_type": "code",
   "execution_count": 9,
   "metadata": {},
   "outputs": [
    {
     "data": {
      "text/plain": [
       "2"
      ]
     },
     "execution_count": 9,
     "metadata": {},
     "output_type": "execute_result"
    }
   ],
   "source": [
    "# Se observan 2 valores duplicados\n",
    "nasdaq_h.duplicated().sum()"
   ]
  },
  {
   "cell_type": "code",
   "execution_count": 10,
   "metadata": {},
   "outputs": [],
   "source": [
    "# Se eliminan los valores duplicados\n",
    "nasdaq_h.drop_duplicates(inplace=True)"
   ]
  },
  {
   "cell_type": "code",
   "execution_count": 11,
   "metadata": {},
   "outputs": [],
   "source": [
    "# Cambio los índices agregando a la fecha como una nueva columna\n",
    "nasdaq_h= nasdaq_h.reset_index()"
   ]
  },
  {
   "cell_type": "code",
   "execution_count": 12,
   "metadata": {},
   "outputs": [
    {
     "data": {
      "text/html": [
       "<div>\n",
       "<style scoped>\n",
       "    .dataframe tbody tr th:only-of-type {\n",
       "        vertical-align: middle;\n",
       "    }\n",
       "\n",
       "    .dataframe tbody tr th {\n",
       "        vertical-align: top;\n",
       "    }\n",
       "\n",
       "    .dataframe thead th {\n",
       "        text-align: right;\n",
       "    }\n",
       "</style>\n",
       "<table border=\"1\" class=\"dataframe\">\n",
       "  <thead>\n",
       "    <tr style=\"text-align: right;\">\n",
       "      <th></th>\n",
       "      <th>Date</th>\n",
       "      <th>Open</th>\n",
       "      <th>High</th>\n",
       "      <th>Low</th>\n",
       "      <th>Close</th>\n",
       "      <th>Adj Close</th>\n",
       "      <th>Volume</th>\n",
       "      <th>Ticker</th>\n",
       "      <th>Company</th>\n",
       "      <th>Sector</th>\n",
       "      <th>Sub-Industry</th>\n",
       "    </tr>\n",
       "  </thead>\n",
       "  <tbody>\n",
       "    <tr>\n",
       "      <th>0</th>\n",
       "      <td>2001-01-30</td>\n",
       "      <td>18.1250</td>\n",
       "      <td>18.1875</td>\n",
       "      <td>16.2500</td>\n",
       "      <td>16.8750</td>\n",
       "      <td>16.8750</td>\n",
       "      <td>812300</td>\n",
       "      <td>ALGN</td>\n",
       "      <td>Align Technology</td>\n",
       "      <td>Health Care</td>\n",
       "      <td>Health Care Supplies</td>\n",
       "    </tr>\n",
       "    <tr>\n",
       "      <th>1</th>\n",
       "      <td>2001-01-31</td>\n",
       "      <td>17.1250</td>\n",
       "      <td>17.1875</td>\n",
       "      <td>13.4375</td>\n",
       "      <td>13.5000</td>\n",
       "      <td>13.5000</td>\n",
       "      <td>1212700</td>\n",
       "      <td>ALGN</td>\n",
       "      <td>Align Technology</td>\n",
       "      <td>Health Care</td>\n",
       "      <td>Health Care Supplies</td>\n",
       "    </tr>\n",
       "    <tr>\n",
       "      <th>2</th>\n",
       "      <td>2001-02-01</td>\n",
       "      <td>13.1250</td>\n",
       "      <td>14.3750</td>\n",
       "      <td>13.0000</td>\n",
       "      <td>14.1875</td>\n",
       "      <td>14.1875</td>\n",
       "      <td>669100</td>\n",
       "      <td>ALGN</td>\n",
       "      <td>Align Technology</td>\n",
       "      <td>Health Care</td>\n",
       "      <td>Health Care Supplies</td>\n",
       "    </tr>\n",
       "    <tr>\n",
       "      <th>3</th>\n",
       "      <td>2001-02-02</td>\n",
       "      <td>14.0000</td>\n",
       "      <td>14.5625</td>\n",
       "      <td>13.7500</td>\n",
       "      <td>14.1250</td>\n",
       "      <td>14.1250</td>\n",
       "      <td>775000</td>\n",
       "      <td>ALGN</td>\n",
       "      <td>Align Technology</td>\n",
       "      <td>Health Care</td>\n",
       "      <td>Health Care Supplies</td>\n",
       "    </tr>\n",
       "    <tr>\n",
       "      <th>4</th>\n",
       "      <td>2001-02-05</td>\n",
       "      <td>14.4375</td>\n",
       "      <td>14.5000</td>\n",
       "      <td>13.8750</td>\n",
       "      <td>14.1250</td>\n",
       "      <td>14.1250</td>\n",
       "      <td>489400</td>\n",
       "      <td>ALGN</td>\n",
       "      <td>Align Technology</td>\n",
       "      <td>Health Care</td>\n",
       "      <td>Health Care Supplies</td>\n",
       "    </tr>\n",
       "  </tbody>\n",
       "</table>\n",
       "</div>"
      ],
      "text/plain": [
       "        Date     Open     High      Low    Close  Adj Close   Volume Ticker  \\\n",
       "0 2001-01-30  18.1250  18.1875  16.2500  16.8750    16.8750   812300   ALGN   \n",
       "1 2001-01-31  17.1250  17.1875  13.4375  13.5000    13.5000  1212700   ALGN   \n",
       "2 2001-02-01  13.1250  14.3750  13.0000  14.1875    14.1875   669100   ALGN   \n",
       "3 2001-02-02  14.0000  14.5625  13.7500  14.1250    14.1250   775000   ALGN   \n",
       "4 2001-02-05  14.4375  14.5000  13.8750  14.1250    14.1250   489400   ALGN   \n",
       "\n",
       "            Company       Sector          Sub-Industry  \n",
       "0  Align Technology  Health Care  Health Care Supplies  \n",
       "1  Align Technology  Health Care  Health Care Supplies  \n",
       "2  Align Technology  Health Care  Health Care Supplies  \n",
       "3  Align Technology  Health Care  Health Care Supplies  \n",
       "4  Align Technology  Health Care  Health Care Supplies  "
      ]
     },
     "execution_count": 12,
     "metadata": {},
     "output_type": "execute_result"
    }
   ],
   "source": [
    "# Uno por el campo \"Ticker\" el daframe de las compañias con el recien generado\n",
    "nasdaq_h = pd.merge(nasdaq_h, nasdaq_companies_h, on='Ticker')\n",
    "nasdaq_h.head()"
   ]
  },
  {
   "cell_type": "code",
   "execution_count": 14,
   "metadata": {},
   "outputs": [
    {
     "data": {
      "image/png": "[encoded data removed]",
      "text/plain": [
       "<Figure size 432x288 with 1 Axes>"
      ]
     },
     "metadata": {},
     "output_type": "display_data"
    }
   ],
   "source": [
    "# Cantidad de empresas por sector\n",
    "\n",
    "# Obtenemos el total de empresas por sector\n",
    "companie_sector = nasdaq_companies.Sector.value_counts( ascending = True)\n",
    "\n",
    "# Graficamos el total de empresas por sector\n",
    "ax = sns.barplot(x=companie_sector.index, y=companie_sector.values, palette='Blues_d')\n",
    "ax.set_xticklabels(ax.get_xticklabels(), rotation=90, ha=\"center\")\n",
    "\n",
    "plt.title('Empresas por sector del Nasdaq-100')\n",
    "plt.xlabel('Sector')\n",
    "plt.ylabel('Número de empresas')\n",
    "\n",
    "for i, v in enumerate(companie_sector.values):\n",
    "    plt.text(i, v, str(v), ha='center', va='bottom')\n",
    "    \n",
    "plt.show()\n"
   ]
  },
  {
   "cell_type": "code",
   "execution_count": 15,
   "metadata": {},
   "outputs": [],
   "source": [
    "# Exportamos los datasets a formato .csv\n",
    "nasdaq_h.to_csv('nasdaq_h.csv', index = False , header = True)"
   ]
  }
 ],
 "metadata": {
  "kernelspec": {
   "display_name": "Python 3",
   "language": "python",
   "name": "python3"
  },
  "language_info": {
   "codemirror_mode": {
    "name": "ipython",
    "version": 3
   },
   "file_extension": ".py",
   "mimetype": "text/x-python",
   "name": "python",
   "nbconvert_exporter": "python",
   "pygments_lexer": "ipython3",
   "version": "3.10.6"
  },
  "orig_nbformat": 4
 },
 "nbformat": 4,
 "nbformat_minor": 2
}
